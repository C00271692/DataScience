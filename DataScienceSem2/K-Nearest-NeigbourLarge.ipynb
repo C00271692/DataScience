{
 "cells": [
  {
   "cell_type": "code",
   "execution_count": null,
   "metadata": {},
   "outputs": [],
   "source": [
    "\n",
    "import pandas as pd\n",
    "from sklearn.model_selection import train_test_split\n",
    "from sklearn.pipeline import Pipeline\n",
    "from sklearn.compose import ColumnTransformer\n",
    "from sklearn.preprocessing import OneHotEncoder, StandardScaler\n",
    "from sklearn.impute import SimpleImputer\n",
    "from sklearn.neighbors import KNeighborsRegressor\n",
    "from sklearn.metrics import mean_squared_error, r2_score"
   ]
  },
  {
   "cell_type": "code",
   "execution_count": 48,
   "metadata": {},
   "outputs": [],
   "source": [
    "# Load the dataset\n",
    "data = pd.read_csv('all_car_adverts.csv')"
   ]
  },
  {
   "cell_type": "code",
   "execution_count": 49,
   "metadata": {},
   "outputs": [
    {
     "name": "stdout",
     "output_type": "stream",
     "text": [
      "Dataset sampled: 100000 rows and 32 columns\n"
     ]
    }
   ],
   "source": [
    "# Sample n random rows... FOR QUICK TESTING ONLY\n",
    "# REMOVE THIS CELL FOR FULL TESTING\n",
    "data = data.sample(n=100000, random_state=42)\n",
    "\n",
    "print(f\"Dataset sampled: {data.shape[0]} rows and {data.shape[1]} columns\")"
   ]
  },
  {
   "cell_type": "code",
   "execution_count": 50,
   "metadata": {},
   "outputs": [],
   "source": [
    "# Define the target column and separate features from the target\n",
    "target_column = 'car_price'\n",
    "X = data.drop(target_column, axis=1)\n",
    "y = data[target_column]\n"
   ]
  },
  {
   "cell_type": "code",
   "execution_count": 51,
   "metadata": {},
   "outputs": [],
   "source": [
    "# Identify numeric and categorical features\n",
    "numeric_cols = X.select_dtypes(include=['int64', 'float64']).columns.tolist()\n",
    "categorical_cols = X.select_dtypes(include=['object']).columns.tolist()"
   ]
  },
  {
   "cell_type": "code",
   "execution_count": 52,
   "metadata": {},
   "outputs": [],
   "source": [
    "# Define a preprocessor with imputation, scaling, and encoding\n",
    "preprocessor = ColumnTransformer(transformers=[\n",
    "    ('num', Pipeline(steps=[\n",
    "        ('impute', SimpleImputer(strategy='mean')), # Fill missing values with the mean (average) of that column\n",
    "        ('scale', StandardScaler()) # Standardize the features by removing the mean and scaling to unit variance\n",
    "    ]), numeric_cols),\n",
    "    ('cat', Pipeline(steps=[\n",
    "        ('impute', SimpleImputer(strategy='most_frequent')), # Fill missing values with the most frequent value of that column\n",
    "        ('onehot', OneHotEncoder(handle_unknown='ignore')) # Encoding Caregorical features into binary. hanfle_unknown='ignore' will ignore any unknown categories that may appear in the test set\n",
    "    ]), categorical_cols)\n",
    "])"
   ]
  },
  {
   "cell_type": "code",
   "execution_count": 55,
   "metadata": {},
   "outputs": [],
   "source": [
    "# Create a pipeline with the preprocessor and a KNN regressor\n",
    "pipeline = Pipeline(steps=[\n",
    "    ('pre', preprocessor),\n",
    "    ('knn', KNeighborsRegressor(n_neighbors=10)) # n_neighbors=10 is the number of neighbors to consider\n",
    "])"
   ]
  },
  {
   "cell_type": "code",
   "execution_count": 56,
   "metadata": {},
   "outputs": [
    {
     "name": "stdout",
     "output_type": "stream",
     "text": [
      "Splitting the dataset...\n",
      "Dataset split complete.\n"
     ]
    }
   ],
   "source": [
    "# Split the data into training and testing sets\n",
    "print(\"Splitting the dataset...\")\n",
    "X_train, X_test, y_train, y_test = train_test_split(X, y, test_size=0.2, random_state=42)\n",
    "print(\"Dataset split complete.\")"
   ]
  },
  {
   "cell_type": "code",
   "execution_count": 57,
   "metadata": {},
   "outputs": [
    {
     "name": "stdout",
     "output_type": "stream",
     "text": [
      "Training the KNN model...\n",
      "Training complete.\n",
      "Mean Squared Error: 192867090.44\n",
      "R^2 Score: 0.64\n"
     ]
    }
   ],
   "source": [
    "# Train the KNN model\n",
    "print(\"Training the KNN model...\")\n",
    "pipeline.fit(X_train, y_train)\n",
    "print(\"Training complete.\") # Printing lets me know if our model is actually executing\n",
    "\n",
    "# Predict and evaluate the model\n",
    "y_pred = pipeline.predict(X_test)\n",
    "mse = mean_squared_error(y_test, y_pred)\n",
    "r2 = r2_score(y_test, y_pred)\n",
    "\n",
    "print(f\"Mean Squared Error: {mse:.2f}\")\n",
    "print(f\"R^2 Score: {r2:.2f}\")"
   ]
  }
 ],
 "metadata": {
  "kernelspec": {
   "display_name": "usr",
   "language": "python",
   "name": "python3"
  },
  "language_info": {
   "codemirror_mode": {
    "name": "ipython",
    "version": 3
   },
   "file_extension": ".py",
   "mimetype": "text/x-python",
   "name": "python",
   "nbconvert_exporter": "python",
   "pygments_lexer": "ipython3",
   "version": "3.13.2"
  }
 },
 "nbformat": 4,
 "nbformat_minor": 2
}
