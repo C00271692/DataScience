{
 "cells": [
  {
   "cell_type": "code",
   "execution_count": null,
   "metadata": {},
   "outputs": [],
   "source": [
    "\n",
    "import pandas as pd\n",
    "from sklearn.model_selection import train_test_split\n",
    "from sklearn.svm import SVC  \n",
    "from sklearn.preprocessing import OneHotEncoder, StandardScaler\n",
    "from sklearn.compose import ColumnTransformer\n",
    "from sklearn.pipeline import Pipeline\n",
    "from sklearn.metrics import classification_report\n",
    "import matplotlib.pyplot as plt\n",
    "from sklearn.decomposition import PCA\n",
    "from sklearn.impute import SimpleImputer\n",
    "import numpy as np"
   ]
  },
  {
   "cell_type": "code",
   "execution_count": 2,
   "metadata": {},
   "outputs": [],
   "source": [
    "# Load the data \n",
    "data = pd.read_csv('all_car_adverts.csv', header=0)"
   ]
  },
  {
   "cell_type": "code",
   "execution_count": 3,
   "metadata": {},
   "outputs": [
    {
     "name": "stdout",
     "output_type": "stream",
     "text": [
      "   Unnamed: 0 make  model variant  car_price car_badges car_title  \\\n",
      "0           0   AC  Cobra     NaN    89995.0        NaN  AC Cobra   \n",
      "1           1   AC  Cobra     NaN    92500.0         ''  AC Cobra   \n",
      "2           2   AC  Cobra     NaN   109995.0         ''  AC Cobra   \n",
      "3           3   AC  Cobra     NaN   124950.0         ''  AC Cobra   \n",
      "4           4   AC  Cobra     NaN   124950.0         ''  AC Cobra   \n",
      "\n",
      "                                       car_sub_title  \\\n",
      "0                                  4.9 MK IV CRS 2dr   \n",
      "1                                         378 - MkIV   \n",
      "2  MK1V 212 SC. 3.5 V8 350 BHP LOTUS TWIN TURBO. ...   \n",
      "3                                       302 MKIV 2dr   \n",
      "4   302 MKIV With Factory Lightweight Engine 5.0 2dr   \n",
      "\n",
      "          car_attention_grabber  \\\n",
      "0  GENUINE AC COBRA CRS 522 BHP   \n",
      "1                 PHYSICAL CAR!   \n",
      "2       FULL CARBON FIBRE BODY.   \n",
      "3           ABSOLUTELY STUNNING   \n",
      "4          'STAGE 3' SVO ENGINE   \n",
      "\n",
      "                                           car_specs  ... num_owner  ulez  \\\n",
      "0  2001 (X reg), Convertible, 14,400 miles, 4.9L,...  ...       5.0     0   \n",
      "1  2019 (T reg), Convertible, 650 miles, Manual, ...  ...       NaN     0   \n",
      "2  2000 (X reg), Convertible, 21,600 miles, 3.5L,...  ...       3.0     0   \n",
      "3  1989 (F reg), Convertible, 2,750 miles, Manual...  ...       NaN     0   \n",
      "4  1989 (E reg), Convertible, 15,142 miles, 5.0L,...  ...       NaN     0   \n",
      "\n",
      "  full_service part_service part_warranty full_dealership  \\\n",
      "0            0            0             0               0   \n",
      "1            0            0             0               0   \n",
      "2            0            0             0               0   \n",
      "3            0            0             0               0   \n",
      "4            0            0             0               0   \n",
      "\n",
      "   first_year_road_tax  brand_new  finance_available discounted  \n",
      "0                    0          0                  0          0  \n",
      "1                    0          0                  0          0  \n",
      "2                    0          0                  0          0  \n",
      "3                    0          0                  0          0  \n",
      "4                    0          0                  0          0  \n",
      "\n",
      "[5 rows x 32 columns]\n",
      "<class 'pandas.core.frame.DataFrame'>\n",
      "RangeIndex: 818456 entries, 0 to 818455\n",
      "Data columns (total 32 columns):\n",
      " #   Column                 Non-Null Count   Dtype  \n",
      "---  ------                 --------------   -----  \n",
      " 0   Unnamed: 0             818456 non-null  int64  \n",
      " 1   make                   818456 non-null  object \n",
      " 2   model                  818153 non-null  object \n",
      " 3   variant                816207 non-null  object \n",
      " 4   car_price              818456 non-null  float64\n",
      " 5   car_badges             801459 non-null  object \n",
      " 6   car_title              818456 non-null  object \n",
      " 7   car_sub_title          817909 non-null  object \n",
      " 8   car_attention_grabber  738163 non-null  object \n",
      " 9   car_specs              818456 non-null  object \n",
      " 10  car_seller             818348 non-null  object \n",
      " 11  car_seller_rating      644191 non-null  float64\n",
      " 12  car_seller_location    816256 non-null  object \n",
      " 13  year                   818456 non-null  object \n",
      " 14  reg                    747436 non-null  object \n",
      " 15  body_type              817744 non-null  object \n",
      " 16  miles                  763703 non-null  float64\n",
      " 17  engine_vol             803010 non-null  float64\n",
      " 18  engine_size            814247 non-null  float64\n",
      " 19  engine_size_unit       814247 non-null  object \n",
      " 20  transmission           818243 non-null  object \n",
      " 21  feul_type              818234 non-null  object \n",
      " 22  num_owner              442596 non-null  float64\n",
      " 23  ulez                   818456 non-null  int64  \n",
      " 24  full_service           818456 non-null  int64  \n",
      " 25  part_service           818456 non-null  int64  \n",
      " 26  part_warranty          818456 non-null  int64  \n",
      " 27  full_dealership        818456 non-null  int64  \n",
      " 28  first_year_road_tax    818456 non-null  int64  \n",
      " 29  brand_new              818456 non-null  int64  \n",
      " 30  finance_available      818456 non-null  int64  \n",
      " 31  discounted             818456 non-null  int64  \n",
      "dtypes: float64(6), int64(10), object(16)\n",
      "memory usage: 199.8+ MB\n",
      "None\n",
      "          Unnamed: 0     car_price  car_seller_rating          miles  \\\n",
      "count  818456.000000  8.184560e+05      644191.000000  763703.000000   \n",
      "mean   409227.500000  2.011859e+04           4.649465   48735.854328   \n",
      "std    236268.040297  2.224110e+04           0.433626   36520.141907   \n",
      "min         0.000000  3.000000e+02           1.000000       2.000000   \n",
      "25%    204613.750000  8.990000e+03           4.600000   19441.000000   \n",
      "50%    409227.500000  1.500000e+04           4.700000   40267.000000   \n",
      "75%    613841.250000  2.450000e+04           4.900000   71215.500000   \n",
      "max    818455.000000  3.199830e+06           5.000000  999999.000000   \n",
      "\n",
      "          engine_vol    engine_size      num_owner           ulez  \\\n",
      "count  803010.000000  814247.000000  442596.000000  818456.000000   \n",
      "mean        1.860284     170.134123       2.097290       0.815449   \n",
      "std         0.752763      92.141443       1.265622       0.387933   \n",
      "min         0.500000       1.000000       1.000000       0.000000   \n",
      "25%         1.400000     115.000000       1.000000       1.000000   \n",
      "50%         1.600000     148.000000       2.000000       1.000000   \n",
      "75%         2.000000     190.000000       3.000000       1.000000   \n",
      "max         8.300000    2460.000000      32.000000       1.000000   \n",
      "\n",
      "        full_service   part_service  part_warranty  full_dealership  \\\n",
      "count  818456.000000  818456.000000  818456.000000    818456.000000   \n",
      "mean        0.108105       0.013059       0.063693         0.035079   \n",
      "std         0.310513       0.113526       0.244206         0.183981   \n",
      "min         0.000000       0.000000       0.000000         0.000000   \n",
      "25%         0.000000       0.000000       0.000000         0.000000   \n",
      "50%         0.000000       0.000000       0.000000         0.000000   \n",
      "75%         0.000000       0.000000       0.000000         0.000000   \n",
      "max         1.000000       1.000000       1.000000         1.000000   \n",
      "\n",
      "       first_year_road_tax      brand_new  finance_available     discounted  \n",
      "count        818456.000000  818456.000000      818456.000000  818456.000000  \n",
      "mean              0.063693       0.066233           0.716983       0.045162  \n",
      "std               0.244206       0.248690           0.450465       0.207659  \n",
      "min               0.000000       0.000000           0.000000       0.000000  \n",
      "25%               0.000000       0.000000           0.000000       0.000000  \n",
      "50%               0.000000       0.000000           1.000000       0.000000  \n",
      "75%               0.000000       0.000000           1.000000       0.000000  \n",
      "max               1.000000       1.000000           1.000000       1.000000  \n"
     ]
    }
   ],
   "source": [
    "#checking whats in the dataset\n",
    "print(data.head())\n",
    "print(data.info())\n",
    "print(data.describe())"
   ]
  },
  {
   "cell_type": "code",
   "execution_count": 4,
   "metadata": {},
   "outputs": [],
   "source": [
    "# Define transformers for numeric and categorical features\n",
    "numeric_transformer = Pipeline(steps=[\n",
    "    ('imputer', SimpleImputer(strategy='mean')),\n",
    "    ('scaler', StandardScaler())\n",
    "])\n",
    "categorical_transformer = Pipeline(steps=[\n",
    "    ('imputer', SimpleImputer(strategy='most_frequent')),\n",
    "    ('onehot', OneHotEncoder(handle_unknown='ignore'))\n",
    "])"
   ]
  },
  {
   "cell_type": "code",
   "execution_count": null,
   "metadata": {},
   "outputs": [],
   "source": [
    "\n",
    "target_column = 'car_price' \n",
    "X = data.drop(target_column, axis=1)\n",
    "y = data[target_column]"
   ]
  },
  {
   "cell_type": "code",
   "execution_count": 6,
   "metadata": {},
   "outputs": [],
   "source": [
    "# Identify numeric and categorical columns automatically\n",
    "numeric_features = X.select_dtypes(include=['int64', 'float64']).columns.tolist()\n",
    "categorical_features = X.select_dtypes(include=['object']).columns.tolist()"
   ]
  },
  {
   "cell_type": "code",
   "execution_count": 7,
   "metadata": {},
   "outputs": [],
   "source": [
    "# Create the updated preprocessor with imputers included\n",
    "preprocessor = ColumnTransformer(transformers=[\n",
    "    ('num', numeric_transformer, numeric_features),\n",
    "    ('cat', categorical_transformer, categorical_features)\n",
    "])"
   ]
  },
  {
   "cell_type": "code",
   "execution_count": 8,
   "metadata": {},
   "outputs": [],
   "source": [
    "# Create the SVM pipeline with preprocessing\n",
    "pipeline = Pipeline(steps=[\n",
    "    ('pre', preprocessor),\n",
    "    ('svm', SVC(verbose=True))\n",
    "])"
   ]
  },
  {
   "cell_type": "code",
   "execution_count": null,
   "metadata": {},
   "outputs": [
    {
     "name": "stdout",
     "output_type": "stream",
     "text": [
      "[LibSVM]"
     ]
    }
   ],
   "source": [
    "# Splitting the dataset into train and test sets\n",
    "X_train, X_test, y_train, y_test = train_test_split(X, y, test_size=0.2, random_state=42)\n",
    "\n",
    "\n",
    "pipeline.fit(X_train, y_train)\n",
    "y_pred = pipeline.predict(X_test)\n",
    "\n",
    "print(classification_report(y_test, y_pred))"
   ]
  }
 ],
 "metadata": {
  "kernelspec": {
   "display_name": "usr",
   "language": "python",
   "name": "python3"
  },
  "language_info": {
   "codemirror_mode": {
    "name": "ipython",
    "version": 3
   },
   "file_extension": ".py",
   "mimetype": "text/x-python",
   "name": "python",
   "nbconvert_exporter": "python",
   "pygments_lexer": "ipython3",
   "version": "3.13.2"
  }
 },
 "nbformat": 4,
 "nbformat_minor": 2
}
