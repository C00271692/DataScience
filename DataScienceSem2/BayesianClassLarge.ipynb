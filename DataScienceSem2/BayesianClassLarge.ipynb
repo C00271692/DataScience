{
 "cells": [
  {
   "cell_type": "code",
   "execution_count": 22,
   "metadata": {},
   "outputs": [],
   "source": [
    "import pandas as pd\n",
    "from sklearn.model_selection import train_test_split\n",
    "from sklearn.pipeline import Pipeline\n",
    "from sklearn.compose import ColumnTransformer\n",
    "from sklearn.preprocessing import StandardScaler, OneHotEncoder\n",
    "from sklearn.impute import SimpleImputer\n",
    "from sklearn.naive_bayes import GaussianNB\n",
    "from sklearn.metrics import classification_report"
   ]
  },
  {
   "cell_type": "code",
   "execution_count": 23,
   "metadata": {},
   "outputs": [],
   "source": [
    "data = pd.read_csv(\"all_car_adverts.csv\")"
   ]
  },
  {
   "cell_type": "code",
   "execution_count": 24,
   "metadata": {},
   "outputs": [
    {
     "name": "stdout",
     "output_type": "stream",
     "text": [
      "Dataset sampled: 20000 rows and 32 columns\n"
     ]
    }
   ],
   "source": [
    "# Sample n random rows... FOR QUICK TESTING ONLY\n",
    "# REMOVE THIS CELL FOR FULL TESTING\n",
    "data = data.sample(n=20000, random_state=42)\n",
    "print(f\"Dataset sampled: {data.shape[0]} rows and {data.shape[1]} columns\")"
   ]
  },
  {
   "cell_type": "code",
   "execution_count": 25,
   "metadata": {},
   "outputs": [],
   "source": [
    "# Create a new target variable by binning 'car_price' into categories, as Naive Bayes requires a categorical target variable.\n",
    "# Prices above the median are 'expensive' and below the median are 'cheap'.\n",
    "median_price = data['car_price'].median()\n",
    "data['price_category'] = data['car_price'].apply(\n",
    "    lambda x: 'expensive' if x > median_price else 'cheap'\n",
    ")    "
   ]
  },
  {
   "cell_type": "code",
   "execution_count": 26,
   "metadata": {},
   "outputs": [],
   "source": [
    "# Define features and target.\n",
    "# Drop the original price (not needed)and the derived target from features.\n",
    "X = data.drop(['car_price', 'price_category'], axis=1)\n",
    "y = data['price_category']"
   ]
  },
  {
   "cell_type": "code",
   "execution_count": 27,
   "metadata": {},
   "outputs": [],
   "source": [
    "# Identify numeric and categorical columns based on data types.\n",
    "numeric_cols = X.select_dtypes(include=['int64', 'float64']).columns.tolist()\n",
    "categorical_cols = X.select_dtypes(include=['object']).columns.tolist()"
   ]
  },
  {
   "cell_type": "code",
   "execution_count": 28,
   "metadata": {},
   "outputs": [],
   "source": [
    "# Preprocessor (pretty much same as in the previous Alorithms).\n",
    "preprocessor = ColumnTransformer(transformers=[\n",
    "    ('num', Pipeline(steps=[\n",
    "        ('impute', SimpleImputer(strategy='mean')), # Impute missing values with the mean.\n",
    "        ('scale', StandardScaler())\n",
    "    ]), numeric_cols),\n",
    "    ('cat', Pipeline(steps=[\n",
    "        ('impute', SimpleImputer(strategy='most_frequent')),  # Impute missing values with the most frequent value.\n",
    "        ('onehot', OneHotEncoder(handle_unknown='ignore', sparse_output=False)) # One-hot encode the categorical columns.\n",
    "    ]), categorical_cols)\n",
    "])"
   ]
  },
  {
   "cell_type": "code",
   "execution_count": 29,
   "metadata": {},
   "outputs": [],
   "source": [
    "\n",
    "# Create a pipeline that chains the preprocessor and the Gaussian Naive Bayes classifier.\n",
    "pipeline = Pipeline(steps=[\n",
    "    ('pre', preprocessor),\n",
    "    ('nb', GaussianNB())\n",
    "])"
   ]
  },
  {
   "cell_type": "code",
   "execution_count": 30,
   "metadata": {},
   "outputs": [
    {
     "name": "stdout",
     "output_type": "stream",
     "text": [
      "Splitting the dataset...\n",
      "Dataset split complete.\n",
      "              precision    recall  f1-score   support\n",
      "\n",
      "       cheap       0.90      0.70      0.78      1977\n",
      "   expensive       0.76      0.92      0.83      2023\n",
      "\n",
      "    accuracy                           0.81      4000\n",
      "   macro avg       0.83      0.81      0.81      4000\n",
      "weighted avg       0.83      0.81      0.81      4000\n",
      "\n"
     ]
    }
   ],
   "source": [
    "# Split Train Test\n",
    "print(\"Splitting the dataset...\")\n",
    "X_train, X_test, y_train, y_test = train_test_split(X, y, test_size=0.2, random_state=42)\n",
    "print(\"Dataset split complete.\")\n",
    "\n",
    "# Fit the Naive Bayes model on the training data and make predictions on the test set.\n",
    "pipeline.fit(X_train, y_train)\n",
    "y_pred = pipeline.predict(X_test)\n",
    "\n",
    "print(classification_report(y_test, y_pred))"
   ]
  }
 ],
 "metadata": {
  "kernelspec": {
   "display_name": "usr",
   "language": "python",
   "name": "python3"
  },
  "language_info": {
   "codemirror_mode": {
    "name": "ipython",
    "version": 3
   },
   "file_extension": ".py",
   "mimetype": "text/x-python",
   "name": "python",
   "nbconvert_exporter": "python",
   "pygments_lexer": "ipython3",
   "version": "3.13.2"
  }
 },
 "nbformat": 4,
 "nbformat_minor": 2
}
